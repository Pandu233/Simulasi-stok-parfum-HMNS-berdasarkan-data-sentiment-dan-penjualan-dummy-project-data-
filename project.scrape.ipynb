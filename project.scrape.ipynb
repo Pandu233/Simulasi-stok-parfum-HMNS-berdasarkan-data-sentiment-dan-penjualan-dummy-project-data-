{
 "cells": [
  {
   "cell_type": "code",
   "execution_count": 53,
   "id": "1d908c42",
   "metadata": {},
   "outputs": [],
   "source": [
    "import numpy as np \n",
    "import pandas as pd\n",
    "import seaborn as sns\n",
    "import matplotlib.pyplot as plt\n",
    "import plotly.express as px"
   ]
  },
  {
   "cell_type": "code",
   "execution_count": 54,
   "id": "29cba7d9",
   "metadata": {},
   "outputs": [],
   "source": [
    "data = pd.read_csv('/Users/muhammadpanduprapyusta/Documents/Prototype pandu/project mencari review barang di twitter/hmns_twitter_reviews_dummy_300.csv')"
   ]
  },
  {
   "cell_type": "code",
   "execution_count": 55,
   "id": "2a198c98",
   "metadata": {},
   "outputs": [
    {
     "data": {
      "text/html": [
       "<div>\n",
       "<style scoped>\n",
       "    .dataframe tbody tr th:only-of-type {\n",
       "        vertical-align: middle;\n",
       "    }\n",
       "\n",
       "    .dataframe tbody tr th {\n",
       "        vertical-align: top;\n",
       "    }\n",
       "\n",
       "    .dataframe thead th {\n",
       "        text-align: right;\n",
       "    }\n",
       "</style>\n",
       "<table border=\"1\" class=\"dataframe\">\n",
       "  <thead>\n",
       "    <tr style=\"text-align: right;\">\n",
       "      <th></th>\n",
       "      <th>tweet_id</th>\n",
       "      <th>date</th>\n",
       "      <th>username</th>\n",
       "      <th>variant</th>\n",
       "      <th>likes</th>\n",
       "      <th>retweets</th>\n",
       "      <th>tweet_text</th>\n",
       "      <th>sentiment</th>\n",
       "      <th>source</th>\n",
       "    </tr>\n",
       "  </thead>\n",
       "  <tbody>\n",
       "    <tr>\n",
       "      <th>0</th>\n",
       "      <td>t0204</td>\n",
       "      <td>2024-01-29</td>\n",
       "      <td>@user1192</td>\n",
       "      <td>O</td>\n",
       "      <td>9</td>\n",
       "      <td>2</td>\n",
       "      <td>Baru nyobain HMNS O, langsung jatuh cinta sama...</td>\n",
       "      <td>positive</td>\n",
       "      <td>Twitter</td>\n",
       "    </tr>\n",
       "    <tr>\n",
       "      <th>1</th>\n",
       "      <td>t0267</td>\n",
       "      <td>2024-04-30</td>\n",
       "      <td>@user1228</td>\n",
       "      <td>Darker Shade of Orgasm</td>\n",
       "      <td>16</td>\n",
       "      <td>3</td>\n",
       "      <td>Kalau kalian belum coba HMNS Darker Shade of O...</td>\n",
       "      <td>positive</td>\n",
       "      <td>Twitter</td>\n",
       "    </tr>\n",
       "    <tr>\n",
       "      <th>2</th>\n",
       "      <td>t0153</td>\n",
       "      <td>2024-01-03</td>\n",
       "      <td>@user1277</td>\n",
       "      <td>Perfection</td>\n",
       "      <td>7</td>\n",
       "      <td>5</td>\n",
       "      <td>Baru nyobain HMNS Perfection, harumnya soft ta...</td>\n",
       "      <td>positive</td>\n",
       "      <td>Twitter</td>\n",
       "    </tr>\n",
       "    <tr>\n",
       "      <th>3</th>\n",
       "      <td>t0010</td>\n",
       "      <td>2024-09-17</td>\n",
       "      <td>@user1273</td>\n",
       "      <td>Philea</td>\n",
       "      <td>2</td>\n",
       "      <td>3</td>\n",
       "      <td>Gak akan beli ulang deh Philea, gak tahan lama...</td>\n",
       "      <td>negative</td>\n",
       "      <td>Twitter</td>\n",
       "    </tr>\n",
       "    <tr>\n",
       "      <th>4</th>\n",
       "      <td>t0234</td>\n",
       "      <td>2023-12-28</td>\n",
       "      <td>@user1260</td>\n",
       "      <td>Alpha</td>\n",
       "      <td>6</td>\n",
       "      <td>8</td>\n",
       "      <td>Gue cinta banget sama Alpha, langsung jatuh ci...</td>\n",
       "      <td>positive</td>\n",
       "      <td>Twitter</td>\n",
       "    </tr>\n",
       "    <tr>\n",
       "      <th>...</th>\n",
       "      <td>...</td>\n",
       "      <td>...</td>\n",
       "      <td>...</td>\n",
       "      <td>...</td>\n",
       "      <td>...</td>\n",
       "      <td>...</td>\n",
       "      <td>...</td>\n",
       "      <td>...</td>\n",
       "      <td>...</td>\n",
       "    </tr>\n",
       "    <tr>\n",
       "      <th>295</th>\n",
       "      <td>t0189</td>\n",
       "      <td>2024-09-22</td>\n",
       "      <td>@user1251</td>\n",
       "      <td>EOS</td>\n",
       "      <td>3</td>\n",
       "      <td>3</td>\n",
       "      <td>Sayang banget EOS, kurang nge-blend di kulit 😕</td>\n",
       "      <td>negative</td>\n",
       "      <td>Twitter</td>\n",
       "    </tr>\n",
       "    <tr>\n",
       "      <th>296</th>\n",
       "      <td>t0072</td>\n",
       "      <td>2024-03-10</td>\n",
       "      <td>@user1037</td>\n",
       "      <td>Untitled Human</td>\n",
       "      <td>13</td>\n",
       "      <td>3</td>\n",
       "      <td>Baru nyobain HMNS Untitled Human, pantes aja s...</td>\n",
       "      <td>positive</td>\n",
       "      <td>Twitter</td>\n",
       "    </tr>\n",
       "    <tr>\n",
       "      <th>297</th>\n",
       "      <td>t0107</td>\n",
       "      <td>2024-02-01</td>\n",
       "      <td>@user1150</td>\n",
       "      <td>EOS</td>\n",
       "      <td>9</td>\n",
       "      <td>6</td>\n",
       "      <td>Gue cinta banget sama EOS, worth it banget bua...</td>\n",
       "      <td>positive</td>\n",
       "      <td>Twitter</td>\n",
       "    </tr>\n",
       "    <tr>\n",
       "      <th>298</th>\n",
       "      <td>t0271</td>\n",
       "      <td>2024-01-08</td>\n",
       "      <td>@user1189</td>\n",
       "      <td>Perfection</td>\n",
       "      <td>7</td>\n",
       "      <td>7</td>\n",
       "      <td>Kalau kalian belum coba HMNS Perfection, wajib...</td>\n",
       "      <td>positive</td>\n",
       "      <td>Twitter</td>\n",
       "    </tr>\n",
       "    <tr>\n",
       "      <th>299</th>\n",
       "      <td>t0103</td>\n",
       "      <td>2024-01-02</td>\n",
       "      <td>@user1194</td>\n",
       "      <td>Untitled Human</td>\n",
       "      <td>13</td>\n",
       "      <td>5</td>\n",
       "      <td>Gue cinta banget sama Untitled Human, unik ban...</td>\n",
       "      <td>positive</td>\n",
       "      <td>Twitter</td>\n",
       "    </tr>\n",
       "  </tbody>\n",
       "</table>\n",
       "<p>300 rows × 9 columns</p>\n",
       "</div>"
      ],
      "text/plain": [
       "    tweet_id        date   username                 variant  likes  retweets  \\\n",
       "0      t0204  2024-01-29  @user1192                       O      9         2   \n",
       "1      t0267  2024-04-30  @user1228  Darker Shade of Orgasm     16         3   \n",
       "2      t0153  2024-01-03  @user1277              Perfection      7         5   \n",
       "3      t0010  2024-09-17  @user1273                  Philea      2         3   \n",
       "4      t0234  2023-12-28  @user1260                   Alpha      6         8   \n",
       "..       ...         ...        ...                     ...    ...       ...   \n",
       "295    t0189  2024-09-22  @user1251                     EOS      3         3   \n",
       "296    t0072  2024-03-10  @user1037          Untitled Human     13         3   \n",
       "297    t0107  2024-02-01  @user1150                     EOS      9         6   \n",
       "298    t0271  2024-01-08  @user1189              Perfection      7         7   \n",
       "299    t0103  2024-01-02  @user1194          Untitled Human     13         5   \n",
       "\n",
       "                                            tweet_text sentiment   source  \n",
       "0    Baru nyobain HMNS O, langsung jatuh cinta sama...  positive  Twitter  \n",
       "1    Kalau kalian belum coba HMNS Darker Shade of O...  positive  Twitter  \n",
       "2    Baru nyobain HMNS Perfection, harumnya soft ta...  positive  Twitter  \n",
       "3    Gak akan beli ulang deh Philea, gak tahan lama...  negative  Twitter  \n",
       "4    Gue cinta banget sama Alpha, langsung jatuh ci...  positive  Twitter  \n",
       "..                                                 ...       ...      ...  \n",
       "295     Sayang banget EOS, kurang nge-blend di kulit 😕  negative  Twitter  \n",
       "296  Baru nyobain HMNS Untitled Human, pantes aja s...  positive  Twitter  \n",
       "297  Gue cinta banget sama EOS, worth it banget bua...  positive  Twitter  \n",
       "298  Kalau kalian belum coba HMNS Perfection, wajib...  positive  Twitter  \n",
       "299  Gue cinta banget sama Untitled Human, unik ban...  positive  Twitter  \n",
       "\n",
       "[300 rows x 9 columns]"
      ]
     },
     "execution_count": 55,
     "metadata": {},
     "output_type": "execute_result"
    }
   ],
   "source": [
    "data"
   ]
  },
  {
   "cell_type": "code",
   "execution_count": 56,
   "id": "b9933960",
   "metadata": {},
   "outputs": [
    {
     "data": {
      "text/plain": [
       "0"
      ]
     },
     "execution_count": 56,
     "metadata": {},
     "output_type": "execute_result"
    }
   ],
   "source": [
    "data.duplicated().sum()"
   ]
  },
  {
   "cell_type": "code",
   "execution_count": 57,
   "id": "c49f6a18",
   "metadata": {},
   "outputs": [
    {
     "data": {
      "text/plain": [
       "tweet_id      0\n",
       "date          0\n",
       "username      0\n",
       "variant       0\n",
       "likes         0\n",
       "retweets      0\n",
       "tweet_text    0\n",
       "sentiment     0\n",
       "source        0\n",
       "dtype: int64"
      ]
     },
     "execution_count": 57,
     "metadata": {},
     "output_type": "execute_result"
    }
   ],
   "source": [
    "missing = data.isnull().sum()\n",
    "missing"
   ]
  },
  {
   "cell_type": "code",
   "execution_count": 58,
   "id": "73c53a00",
   "metadata": {},
   "outputs": [
    {
     "data": {
      "text/html": [
       "<div>\n",
       "<style scoped>\n",
       "    .dataframe tbody tr th:only-of-type {\n",
       "        vertical-align: middle;\n",
       "    }\n",
       "\n",
       "    .dataframe tbody tr th {\n",
       "        vertical-align: top;\n",
       "    }\n",
       "\n",
       "    .dataframe thead th {\n",
       "        text-align: right;\n",
       "    }\n",
       "</style>\n",
       "<table border=\"1\" class=\"dataframe\">\n",
       "  <thead>\n",
       "    <tr style=\"text-align: right;\">\n",
       "      <th></th>\n",
       "      <th>tweet_id</th>\n",
       "      <th>username</th>\n",
       "      <th>variant</th>\n",
       "      <th>likes</th>\n",
       "      <th>retweets</th>\n",
       "      <th>tweet_text</th>\n",
       "      <th>sentiment</th>\n",
       "      <th>source</th>\n",
       "    </tr>\n",
       "  </thead>\n",
       "  <tbody>\n",
       "    <tr>\n",
       "      <th>0</th>\n",
       "      <td>t0204</td>\n",
       "      <td>@user1192</td>\n",
       "      <td>O</td>\n",
       "      <td>9</td>\n",
       "      <td>2</td>\n",
       "      <td>Baru nyobain HMNS O, langsung jatuh cinta sama...</td>\n",
       "      <td>positive</td>\n",
       "      <td>Twitter</td>\n",
       "    </tr>\n",
       "    <tr>\n",
       "      <th>1</th>\n",
       "      <td>t0267</td>\n",
       "      <td>@user1228</td>\n",
       "      <td>Darker Shade of Orgasm</td>\n",
       "      <td>16</td>\n",
       "      <td>3</td>\n",
       "      <td>Kalau kalian belum coba HMNS Darker Shade of O...</td>\n",
       "      <td>positive</td>\n",
       "      <td>Twitter</td>\n",
       "    </tr>\n",
       "    <tr>\n",
       "      <th>2</th>\n",
       "      <td>t0153</td>\n",
       "      <td>@user1277</td>\n",
       "      <td>Perfection</td>\n",
       "      <td>7</td>\n",
       "      <td>5</td>\n",
       "      <td>Baru nyobain HMNS Perfection, harumnya soft ta...</td>\n",
       "      <td>positive</td>\n",
       "      <td>Twitter</td>\n",
       "    </tr>\n",
       "    <tr>\n",
       "      <th>3</th>\n",
       "      <td>t0010</td>\n",
       "      <td>@user1273</td>\n",
       "      <td>Philea</td>\n",
       "      <td>2</td>\n",
       "      <td>3</td>\n",
       "      <td>Gak akan beli ulang deh Philea, gak tahan lama...</td>\n",
       "      <td>negative</td>\n",
       "      <td>Twitter</td>\n",
       "    </tr>\n",
       "    <tr>\n",
       "      <th>4</th>\n",
       "      <td>t0234</td>\n",
       "      <td>@user1260</td>\n",
       "      <td>Alpha</td>\n",
       "      <td>6</td>\n",
       "      <td>8</td>\n",
       "      <td>Gue cinta banget sama Alpha, langsung jatuh ci...</td>\n",
       "      <td>positive</td>\n",
       "      <td>Twitter</td>\n",
       "    </tr>\n",
       "    <tr>\n",
       "      <th>...</th>\n",
       "      <td>...</td>\n",
       "      <td>...</td>\n",
       "      <td>...</td>\n",
       "      <td>...</td>\n",
       "      <td>...</td>\n",
       "      <td>...</td>\n",
       "      <td>...</td>\n",
       "      <td>...</td>\n",
       "    </tr>\n",
       "    <tr>\n",
       "      <th>295</th>\n",
       "      <td>t0189</td>\n",
       "      <td>@user1251</td>\n",
       "      <td>EOS</td>\n",
       "      <td>3</td>\n",
       "      <td>3</td>\n",
       "      <td>Sayang banget EOS, kurang nge-blend di kulit 😕</td>\n",
       "      <td>negative</td>\n",
       "      <td>Twitter</td>\n",
       "    </tr>\n",
       "    <tr>\n",
       "      <th>296</th>\n",
       "      <td>t0072</td>\n",
       "      <td>@user1037</td>\n",
       "      <td>Untitled Human</td>\n",
       "      <td>13</td>\n",
       "      <td>3</td>\n",
       "      <td>Baru nyobain HMNS Untitled Human, pantes aja s...</td>\n",
       "      <td>positive</td>\n",
       "      <td>Twitter</td>\n",
       "    </tr>\n",
       "    <tr>\n",
       "      <th>297</th>\n",
       "      <td>t0107</td>\n",
       "      <td>@user1150</td>\n",
       "      <td>EOS</td>\n",
       "      <td>9</td>\n",
       "      <td>6</td>\n",
       "      <td>Gue cinta banget sama EOS, worth it banget bua...</td>\n",
       "      <td>positive</td>\n",
       "      <td>Twitter</td>\n",
       "    </tr>\n",
       "    <tr>\n",
       "      <th>298</th>\n",
       "      <td>t0271</td>\n",
       "      <td>@user1189</td>\n",
       "      <td>Perfection</td>\n",
       "      <td>7</td>\n",
       "      <td>7</td>\n",
       "      <td>Kalau kalian belum coba HMNS Perfection, wajib...</td>\n",
       "      <td>positive</td>\n",
       "      <td>Twitter</td>\n",
       "    </tr>\n",
       "    <tr>\n",
       "      <th>299</th>\n",
       "      <td>t0103</td>\n",
       "      <td>@user1194</td>\n",
       "      <td>Untitled Human</td>\n",
       "      <td>13</td>\n",
       "      <td>5</td>\n",
       "      <td>Gue cinta banget sama Untitled Human, unik ban...</td>\n",
       "      <td>positive</td>\n",
       "      <td>Twitter</td>\n",
       "    </tr>\n",
       "  </tbody>\n",
       "</table>\n",
       "<p>300 rows × 8 columns</p>\n",
       "</div>"
      ],
      "text/plain": [
       "    tweet_id   username                 variant  likes  retweets  \\\n",
       "0      t0204  @user1192                       O      9         2   \n",
       "1      t0267  @user1228  Darker Shade of Orgasm     16         3   \n",
       "2      t0153  @user1277              Perfection      7         5   \n",
       "3      t0010  @user1273                  Philea      2         3   \n",
       "4      t0234  @user1260                   Alpha      6         8   \n",
       "..       ...        ...                     ...    ...       ...   \n",
       "295    t0189  @user1251                     EOS      3         3   \n",
       "296    t0072  @user1037          Untitled Human     13         3   \n",
       "297    t0107  @user1150                     EOS      9         6   \n",
       "298    t0271  @user1189              Perfection      7         7   \n",
       "299    t0103  @user1194          Untitled Human     13         5   \n",
       "\n",
       "                                            tweet_text sentiment   source  \n",
       "0    Baru nyobain HMNS O, langsung jatuh cinta sama...  positive  Twitter  \n",
       "1    Kalau kalian belum coba HMNS Darker Shade of O...  positive  Twitter  \n",
       "2    Baru nyobain HMNS Perfection, harumnya soft ta...  positive  Twitter  \n",
       "3    Gak akan beli ulang deh Philea, gak tahan lama...  negative  Twitter  \n",
       "4    Gue cinta banget sama Alpha, langsung jatuh ci...  positive  Twitter  \n",
       "..                                                 ...       ...      ...  \n",
       "295     Sayang banget EOS, kurang nge-blend di kulit 😕  negative  Twitter  \n",
       "296  Baru nyobain HMNS Untitled Human, pantes aja s...  positive  Twitter  \n",
       "297  Gue cinta banget sama EOS, worth it banget bua...  positive  Twitter  \n",
       "298  Kalau kalian belum coba HMNS Perfection, wajib...  positive  Twitter  \n",
       "299  Gue cinta banget sama Untitled Human, unik ban...  positive  Twitter  \n",
       "\n",
       "[300 rows x 8 columns]"
      ]
     },
     "execution_count": 58,
     "metadata": {},
     "output_type": "execute_result"
    }
   ],
   "source": [
    "data.drop(columns=['date'])"
   ]
  },
  {
   "cell_type": "code",
   "execution_count": 59,
   "id": "8afa326f",
   "metadata": {},
   "outputs": [
    {
     "data": {
      "text/plain": [
       "array(['O', 'Darker Shade of Orgasm', 'Perfection', 'Philea', 'Alpha',\n",
       "       'EOS', 'Addict', 'Untitled Human', 'Farhampton', 'Sore'],\n",
       "      dtype=object)"
      ]
     },
     "execution_count": 59,
     "metadata": {},
     "output_type": "execute_result"
    }
   ],
   "source": [
    "data['variant'].unique()"
   ]
  },
  {
   "cell_type": "code",
   "execution_count": 60,
   "id": "1aa0660e",
   "metadata": {},
   "outputs": [
    {
     "data": {
      "text/plain": [
       "variant\n",
       "Sore                      43\n",
       "EOS                       38\n",
       "Perfection                34\n",
       "Darker Shade of Orgasm    30\n",
       "Untitled Human            29\n",
       "Farhampton                29\n",
       "O                         27\n",
       "Alpha                     25\n",
       "Philea                    23\n",
       "Addict                    22\n",
       "Name: count, dtype: int64"
      ]
     },
     "execution_count": 60,
     "metadata": {},
     "output_type": "execute_result"
    }
   ],
   "source": [
    "real = data['variant'].value_counts()\n",
    "real"
   ]
  },
  {
   "cell_type": "markdown",
   "id": "d350cc31",
   "metadata": {},
   "source": [
    "## POSITIVE REVIEW"
   ]
  },
  {
   "cell_type": "code",
   "execution_count": 61,
   "id": "a4925499",
   "metadata": {},
   "outputs": [],
   "source": [
    "review_bagus = data[data['sentiment'] == \"positive\"][\"variant\"].value_counts().rename(\"review_count\")\n"
   ]
  },
  {
   "cell_type": "code",
   "execution_count": 62,
   "id": "500d8891",
   "metadata": {},
   "outputs": [],
   "source": [
    "data[\"pendukung\"] = data[\"likes\"] + data[\"retweets\"]\n"
   ]
  },
  {
   "cell_type": "code",
   "execution_count": 63,
   "id": "e46eb92b",
   "metadata": {},
   "outputs": [],
   "source": [
    "pendukung = data[data[\"sentiment\"] == \"positive\"]"
   ]
  },
  {
   "cell_type": "code",
   "execution_count": 64,
   "id": "d102b8d7",
   "metadata": {},
   "outputs": [
    {
     "name": "stdout",
     "output_type": "stream",
     "text": [
      "                        likes  retweets  pendukung\n",
      "variant                                           \n",
      "Sore                      345       103        448\n",
      "Perfection                317       119        436\n",
      "EOS                       325       103        428\n",
      "Darker Shade of Orgasm    297        85        382\n",
      "Untitled Human            269        89        358\n",
      "O                         240       103        343\n",
      "Alpha                     253        77        330\n",
      "Farhampton                236        85        321\n",
      "Addict                    195        70        265\n",
      "Philea                    163        62        225\n"
     ]
    }
   ],
   "source": [
    "support_review = (\n",
    "    pendukung.groupby(\"variant\")[[\"likes\", \"retweets\", \"pendukung\"]]\n",
    "    .sum()\n",
    "    .sort_values(by=\"pendukung\", ascending=False)\n",
    ")\n",
    "print(support_review)"
   ]
  },
  {
   "cell_type": "code",
   "execution_count": 65,
   "id": "d1fffa13",
   "metadata": {},
   "outputs": [],
   "source": [
    "combined = support_review.join(review_bagus, how=\"left\")\n",
    "combined[\"total_all1\"] = combined[\"pendukung\"] + combined[\"review_count\"]"
   ]
  },
  {
   "cell_type": "code",
   "execution_count": 66,
   "id": "4bf6bd43",
   "metadata": {},
   "outputs": [
    {
     "data": {
      "text/html": [
       "<div>\n",
       "<style scoped>\n",
       "    .dataframe tbody tr th:only-of-type {\n",
       "        vertical-align: middle;\n",
       "    }\n",
       "\n",
       "    .dataframe tbody tr th {\n",
       "        vertical-align: top;\n",
       "    }\n",
       "\n",
       "    .dataframe thead th {\n",
       "        text-align: right;\n",
       "    }\n",
       "</style>\n",
       "<table border=\"1\" class=\"dataframe\">\n",
       "  <thead>\n",
       "    <tr style=\"text-align: right;\">\n",
       "      <th></th>\n",
       "      <th>likes</th>\n",
       "      <th>retweets</th>\n",
       "      <th>pendukung</th>\n",
       "      <th>review_count</th>\n",
       "      <th>total_all1</th>\n",
       "    </tr>\n",
       "    <tr>\n",
       "      <th>variant</th>\n",
       "      <th></th>\n",
       "      <th></th>\n",
       "      <th></th>\n",
       "      <th></th>\n",
       "      <th></th>\n",
       "    </tr>\n",
       "  </thead>\n",
       "  <tbody>\n",
       "    <tr>\n",
       "      <th>Sore</th>\n",
       "      <td>345</td>\n",
       "      <td>103</td>\n",
       "      <td>448</td>\n",
       "      <td>29</td>\n",
       "      <td>477</td>\n",
       "    </tr>\n",
       "    <tr>\n",
       "      <th>Perfection</th>\n",
       "      <td>317</td>\n",
       "      <td>119</td>\n",
       "      <td>436</td>\n",
       "      <td>27</td>\n",
       "      <td>463</td>\n",
       "    </tr>\n",
       "    <tr>\n",
       "      <th>EOS</th>\n",
       "      <td>325</td>\n",
       "      <td>103</td>\n",
       "      <td>428</td>\n",
       "      <td>26</td>\n",
       "      <td>454</td>\n",
       "    </tr>\n",
       "    <tr>\n",
       "      <th>Darker Shade of Orgasm</th>\n",
       "      <td>297</td>\n",
       "      <td>85</td>\n",
       "      <td>382</td>\n",
       "      <td>24</td>\n",
       "      <td>406</td>\n",
       "    </tr>\n",
       "    <tr>\n",
       "      <th>Untitled Human</th>\n",
       "      <td>269</td>\n",
       "      <td>89</td>\n",
       "      <td>358</td>\n",
       "      <td>22</td>\n",
       "      <td>380</td>\n",
       "    </tr>\n",
       "    <tr>\n",
       "      <th>O</th>\n",
       "      <td>240</td>\n",
       "      <td>103</td>\n",
       "      <td>343</td>\n",
       "      <td>22</td>\n",
       "      <td>365</td>\n",
       "    </tr>\n",
       "    <tr>\n",
       "      <th>Alpha</th>\n",
       "      <td>253</td>\n",
       "      <td>77</td>\n",
       "      <td>330</td>\n",
       "      <td>19</td>\n",
       "      <td>349</td>\n",
       "    </tr>\n",
       "    <tr>\n",
       "      <th>Farhampton</th>\n",
       "      <td>236</td>\n",
       "      <td>85</td>\n",
       "      <td>321</td>\n",
       "      <td>21</td>\n",
       "      <td>342</td>\n",
       "    </tr>\n",
       "    <tr>\n",
       "      <th>Addict</th>\n",
       "      <td>195</td>\n",
       "      <td>70</td>\n",
       "      <td>265</td>\n",
       "      <td>16</td>\n",
       "      <td>281</td>\n",
       "    </tr>\n",
       "    <tr>\n",
       "      <th>Philea</th>\n",
       "      <td>163</td>\n",
       "      <td>62</td>\n",
       "      <td>225</td>\n",
       "      <td>14</td>\n",
       "      <td>239</td>\n",
       "    </tr>\n",
       "  </tbody>\n",
       "</table>\n",
       "</div>"
      ],
      "text/plain": [
       "                        likes  retweets  pendukung  review_count  total_all1\n",
       "variant                                                                     \n",
       "Sore                      345       103        448            29         477\n",
       "Perfection                317       119        436            27         463\n",
       "EOS                       325       103        428            26         454\n",
       "Darker Shade of Orgasm    297        85        382            24         406\n",
       "Untitled Human            269        89        358            22         380\n",
       "O                         240       103        343            22         365\n",
       "Alpha                     253        77        330            19         349\n",
       "Farhampton                236        85        321            21         342\n",
       "Addict                    195        70        265            16         281\n",
       "Philea                    163        62        225            14         239"
      ]
     },
     "execution_count": 66,
     "metadata": {},
     "output_type": "execute_result"
    }
   ],
   "source": [
    "combined"
   ]
  },
  {
   "cell_type": "code",
   "execution_count": 67,
   "id": "b7526b65",
   "metadata": {},
   "outputs": [
    {
     "data": {
      "application/vnd.plotly.v1+json": {
       "config": {
        "plotlyServerURL": "https://plot.ly"
       },
       "data": [
        {
         "hovertemplate": "variant=%{x}<br>total_all1=%{marker.color}<extra></extra>",
         "legendgroup": "",
         "marker": {
          "color": {
           "bdata": "3QHPAcYBlgF8AW0BXQFWARkB7wA=",
           "dtype": "i2"
          },
          "coloraxis": "coloraxis",
          "pattern": {
           "shape": ""
          }
         },
         "name": "",
         "orientation": "v",
         "showlegend": false,
         "text": {
          "bdata": "AAAAAADQfUAAAAAAAPB8QAAAAAAAYHxAAAAAAABgeUAAAAAAAMB3QAAAAAAA0HZAAAAAAADQdUAAAAAAAGB1QAAAAAAAkHFAAAAAAADgbUA=",
          "dtype": "f8"
         },
         "textposition": "auto",
         "type": "bar",
         "x": [
          "Sore",
          "Perfection",
          "EOS",
          "Darker Shade of Orgasm",
          "Untitled Human",
          "O",
          "Alpha",
          "Farhampton",
          "Addict",
          "Philea"
         ],
         "xaxis": "x",
         "y": {
          "bdata": "3QHPAcYBlgF8AW0BXQFWARkB7wA=",
          "dtype": "i2"
         },
         "yaxis": "y"
        }
       ],
       "layout": {
        "barmode": "relative",
        "coloraxis": {
         "colorbar": {
          "title": {
           "text": "total_all1"
          }
         },
         "colorscale": [
          [
           0,
           "rgb(247,251,255)"
          ],
          [
           0.125,
           "rgb(222,235,247)"
          ],
          [
           0.25,
           "rgb(198,219,239)"
          ],
          [
           0.375,
           "rgb(158,202,225)"
          ],
          [
           0.5,
           "rgb(107,174,214)"
          ],
          [
           0.625,
           "rgb(66,146,198)"
          ],
          [
           0.75,
           "rgb(33,113,181)"
          ],
          [
           0.875,
           "rgb(8,81,156)"
          ],
          [
           1,
           "rgb(8,48,107)"
          ]
         ]
        },
        "legend": {
         "tracegroupgap": 0
        },
        "template": {
         "data": {
          "bar": [
           {
            "error_x": {
             "color": "#2a3f5f"
            },
            "error_y": {
             "color": "#2a3f5f"
            },
            "marker": {
             "line": {
              "color": "#E5ECF6",
              "width": 0.5
             },
             "pattern": {
              "fillmode": "overlay",
              "size": 10,
              "solidity": 0.2
             }
            },
            "type": "bar"
           }
          ],
          "barpolar": [
           {
            "marker": {
             "line": {
              "color": "#E5ECF6",
              "width": 0.5
             },
             "pattern": {
              "fillmode": "overlay",
              "size": 10,
              "solidity": 0.2
             }
            },
            "type": "barpolar"
           }
          ],
          "carpet": [
           {
            "aaxis": {
             "endlinecolor": "#2a3f5f",
             "gridcolor": "white",
             "linecolor": "white",
             "minorgridcolor": "white",
             "startlinecolor": "#2a3f5f"
            },
            "baxis": {
             "endlinecolor": "#2a3f5f",
             "gridcolor": "white",
             "linecolor": "white",
             "minorgridcolor": "white",
             "startlinecolor": "#2a3f5f"
            },
            "type": "carpet"
           }
          ],
          "choropleth": [
           {
            "colorbar": {
             "outlinewidth": 0,
             "ticks": ""
            },
            "type": "choropleth"
           }
          ],
          "contour": [
           {
            "colorbar": {
             "outlinewidth": 0,
             "ticks": ""
            },
            "colorscale": [
             [
              0,
              "#0d0887"
             ],
             [
              0.1111111111111111,
              "#46039f"
             ],
             [
              0.2222222222222222,
              "#7201a8"
             ],
             [
              0.3333333333333333,
              "#9c179e"
             ],
             [
              0.4444444444444444,
              "#bd3786"
             ],
             [
              0.5555555555555556,
              "#d8576b"
             ],
             [
              0.6666666666666666,
              "#ed7953"
             ],
             [
              0.7777777777777778,
              "#fb9f3a"
             ],
             [
              0.8888888888888888,
              "#fdca26"
             ],
             [
              1,
              "#f0f921"
             ]
            ],
            "type": "contour"
           }
          ],
          "contourcarpet": [
           {
            "colorbar": {
             "outlinewidth": 0,
             "ticks": ""
            },
            "type": "contourcarpet"
           }
          ],
          "heatmap": [
           {
            "colorbar": {
             "outlinewidth": 0,
             "ticks": ""
            },
            "colorscale": [
             [
              0,
              "#0d0887"
             ],
             [
              0.1111111111111111,
              "#46039f"
             ],
             [
              0.2222222222222222,
              "#7201a8"
             ],
             [
              0.3333333333333333,
              "#9c179e"
             ],
             [
              0.4444444444444444,
              "#bd3786"
             ],
             [
              0.5555555555555556,
              "#d8576b"
             ],
             [
              0.6666666666666666,
              "#ed7953"
             ],
             [
              0.7777777777777778,
              "#fb9f3a"
             ],
             [
              0.8888888888888888,
              "#fdca26"
             ],
             [
              1,
              "#f0f921"
             ]
            ],
            "type": "heatmap"
           }
          ],
          "histogram": [
           {
            "marker": {
             "pattern": {
              "fillmode": "overlay",
              "size": 10,
              "solidity": 0.2
             }
            },
            "type": "histogram"
           }
          ],
          "histogram2d": [
           {
            "colorbar": {
             "outlinewidth": 0,
             "ticks": ""
            },
            "colorscale": [
             [
              0,
              "#0d0887"
             ],
             [
              0.1111111111111111,
              "#46039f"
             ],
             [
              0.2222222222222222,
              "#7201a8"
             ],
             [
              0.3333333333333333,
              "#9c179e"
             ],
             [
              0.4444444444444444,
              "#bd3786"
             ],
             [
              0.5555555555555556,
              "#d8576b"
             ],
             [
              0.6666666666666666,
              "#ed7953"
             ],
             [
              0.7777777777777778,
              "#fb9f3a"
             ],
             [
              0.8888888888888888,
              "#fdca26"
             ],
             [
              1,
              "#f0f921"
             ]
            ],
            "type": "histogram2d"
           }
          ],
          "histogram2dcontour": [
           {
            "colorbar": {
             "outlinewidth": 0,
             "ticks": ""
            },
            "colorscale": [
             [
              0,
              "#0d0887"
             ],
             [
              0.1111111111111111,
              "#46039f"
             ],
             [
              0.2222222222222222,
              "#7201a8"
             ],
             [
              0.3333333333333333,
              "#9c179e"
             ],
             [
              0.4444444444444444,
              "#bd3786"
             ],
             [
              0.5555555555555556,
              "#d8576b"
             ],
             [
              0.6666666666666666,
              "#ed7953"
             ],
             [
              0.7777777777777778,
              "#fb9f3a"
             ],
             [
              0.8888888888888888,
              "#fdca26"
             ],
             [
              1,
              "#f0f921"
             ]
            ],
            "type": "histogram2dcontour"
           }
          ],
          "mesh3d": [
           {
            "colorbar": {
             "outlinewidth": 0,
             "ticks": ""
            },
            "type": "mesh3d"
           }
          ],
          "parcoords": [
           {
            "line": {
             "colorbar": {
              "outlinewidth": 0,
              "ticks": ""
             }
            },
            "type": "parcoords"
           }
          ],
          "pie": [
           {
            "automargin": true,
            "type": "pie"
           }
          ],
          "scatter": [
           {
            "fillpattern": {
             "fillmode": "overlay",
             "size": 10,
             "solidity": 0.2
            },
            "type": "scatter"
           }
          ],
          "scatter3d": [
           {
            "line": {
             "colorbar": {
              "outlinewidth": 0,
              "ticks": ""
             }
            },
            "marker": {
             "colorbar": {
              "outlinewidth": 0,
              "ticks": ""
             }
            },
            "type": "scatter3d"
           }
          ],
          "scattercarpet": [
           {
            "marker": {
             "colorbar": {
              "outlinewidth": 0,
              "ticks": ""
             }
            },
            "type": "scattercarpet"
           }
          ],
          "scattergeo": [
           {
            "marker": {
             "colorbar": {
              "outlinewidth": 0,
              "ticks": ""
             }
            },
            "type": "scattergeo"
           }
          ],
          "scattergl": [
           {
            "marker": {
             "colorbar": {
              "outlinewidth": 0,
              "ticks": ""
             }
            },
            "type": "scattergl"
           }
          ],
          "scattermap": [
           {
            "marker": {
             "colorbar": {
              "outlinewidth": 0,
              "ticks": ""
             }
            },
            "type": "scattermap"
           }
          ],
          "scattermapbox": [
           {
            "marker": {
             "colorbar": {
              "outlinewidth": 0,
              "ticks": ""
             }
            },
            "type": "scattermapbox"
           }
          ],
          "scatterpolar": [
           {
            "marker": {
             "colorbar": {
              "outlinewidth": 0,
              "ticks": ""
             }
            },
            "type": "scatterpolar"
           }
          ],
          "scatterpolargl": [
           {
            "marker": {
             "colorbar": {
              "outlinewidth": 0,
              "ticks": ""
             }
            },
            "type": "scatterpolargl"
           }
          ],
          "scatterternary": [
           {
            "marker": {
             "colorbar": {
              "outlinewidth": 0,
              "ticks": ""
             }
            },
            "type": "scatterternary"
           }
          ],
          "surface": [
           {
            "colorbar": {
             "outlinewidth": 0,
             "ticks": ""
            },
            "colorscale": [
             [
              0,
              "#0d0887"
             ],
             [
              0.1111111111111111,
              "#46039f"
             ],
             [
              0.2222222222222222,
              "#7201a8"
             ],
             [
              0.3333333333333333,
              "#9c179e"
             ],
             [
              0.4444444444444444,
              "#bd3786"
             ],
             [
              0.5555555555555556,
              "#d8576b"
             ],
             [
              0.6666666666666666,
              "#ed7953"
             ],
             [
              0.7777777777777778,
              "#fb9f3a"
             ],
             [
              0.8888888888888888,
              "#fdca26"
             ],
             [
              1,
              "#f0f921"
             ]
            ],
            "type": "surface"
           }
          ],
          "table": [
           {
            "cells": {
             "fill": {
              "color": "#EBF0F8"
             },
             "line": {
              "color": "white"
             }
            },
            "header": {
             "fill": {
              "color": "#C8D4E3"
             },
             "line": {
              "color": "white"
             }
            },
            "type": "table"
           }
          ]
         },
         "layout": {
          "annotationdefaults": {
           "arrowcolor": "#2a3f5f",
           "arrowhead": 0,
           "arrowwidth": 1
          },
          "autotypenumbers": "strict",
          "coloraxis": {
           "colorbar": {
            "outlinewidth": 0,
            "ticks": ""
           }
          },
          "colorscale": {
           "diverging": [
            [
             0,
             "#8e0152"
            ],
            [
             0.1,
             "#c51b7d"
            ],
            [
             0.2,
             "#de77ae"
            ],
            [
             0.3,
             "#f1b6da"
            ],
            [
             0.4,
             "#fde0ef"
            ],
            [
             0.5,
             "#f7f7f7"
            ],
            [
             0.6,
             "#e6f5d0"
            ],
            [
             0.7,
             "#b8e186"
            ],
            [
             0.8,
             "#7fbc41"
            ],
            [
             0.9,
             "#4d9221"
            ],
            [
             1,
             "#276419"
            ]
           ],
           "sequential": [
            [
             0,
             "#0d0887"
            ],
            [
             0.1111111111111111,
             "#46039f"
            ],
            [
             0.2222222222222222,
             "#7201a8"
            ],
            [
             0.3333333333333333,
             "#9c179e"
            ],
            [
             0.4444444444444444,
             "#bd3786"
            ],
            [
             0.5555555555555556,
             "#d8576b"
            ],
            [
             0.6666666666666666,
             "#ed7953"
            ],
            [
             0.7777777777777778,
             "#fb9f3a"
            ],
            [
             0.8888888888888888,
             "#fdca26"
            ],
            [
             1,
             "#f0f921"
            ]
           ],
           "sequentialminus": [
            [
             0,
             "#0d0887"
            ],
            [
             0.1111111111111111,
             "#46039f"
            ],
            [
             0.2222222222222222,
             "#7201a8"
            ],
            [
             0.3333333333333333,
             "#9c179e"
            ],
            [
             0.4444444444444444,
             "#bd3786"
            ],
            [
             0.5555555555555556,
             "#d8576b"
            ],
            [
             0.6666666666666666,
             "#ed7953"
            ],
            [
             0.7777777777777778,
             "#fb9f3a"
            ],
            [
             0.8888888888888888,
             "#fdca26"
            ],
            [
             1,
             "#f0f921"
            ]
           ]
          },
          "colorway": [
           "#636efa",
           "#EF553B",
           "#00cc96",
           "#ab63fa",
           "#FFA15A",
           "#19d3f3",
           "#FF6692",
           "#B6E880",
           "#FF97FF",
           "#FECB52"
          ],
          "font": {
           "color": "#2a3f5f"
          },
          "geo": {
           "bgcolor": "white",
           "lakecolor": "white",
           "landcolor": "#E5ECF6",
           "showlakes": true,
           "showland": true,
           "subunitcolor": "white"
          },
          "hoverlabel": {
           "align": "left"
          },
          "hovermode": "closest",
          "mapbox": {
           "style": "light"
          },
          "paper_bgcolor": "white",
          "plot_bgcolor": "#E5ECF6",
          "polar": {
           "angularaxis": {
            "gridcolor": "white",
            "linecolor": "white",
            "ticks": ""
           },
           "bgcolor": "#E5ECF6",
           "radialaxis": {
            "gridcolor": "white",
            "linecolor": "white",
            "ticks": ""
           }
          },
          "scene": {
           "xaxis": {
            "backgroundcolor": "#E5ECF6",
            "gridcolor": "white",
            "gridwidth": 2,
            "linecolor": "white",
            "showbackground": true,
            "ticks": "",
            "zerolinecolor": "white"
           },
           "yaxis": {
            "backgroundcolor": "#E5ECF6",
            "gridcolor": "white",
            "gridwidth": 2,
            "linecolor": "white",
            "showbackground": true,
            "ticks": "",
            "zerolinecolor": "white"
           },
           "zaxis": {
            "backgroundcolor": "#E5ECF6",
            "gridcolor": "white",
            "gridwidth": 2,
            "linecolor": "white",
            "showbackground": true,
            "ticks": "",
            "zerolinecolor": "white"
           }
          },
          "shapedefaults": {
           "line": {
            "color": "#2a3f5f"
           }
          },
          "ternary": {
           "aaxis": {
            "gridcolor": "white",
            "linecolor": "white",
            "ticks": ""
           },
           "baxis": {
            "gridcolor": "white",
            "linecolor": "white",
            "ticks": ""
           },
           "bgcolor": "#E5ECF6",
           "caxis": {
            "gridcolor": "white",
            "linecolor": "white",
            "ticks": ""
           }
          },
          "title": {
           "x": 0.05
          },
          "xaxis": {
           "automargin": true,
           "gridcolor": "white",
           "linecolor": "white",
           "ticks": "",
           "title": {
            "standoff": 15
           },
           "zerolinecolor": "white",
           "zerolinewidth": 2
          },
          "yaxis": {
           "automargin": true,
           "gridcolor": "white",
           "linecolor": "white",
           "ticks": "",
           "title": {
            "standoff": 15
           },
           "zerolinecolor": "white",
           "zerolinewidth": 2
          }
         }
        },
        "title": {
         "text": "Total Gabungan Pendukung dan Review (total_all1) - Urut Tertinggi ke Terendah"
        },
        "xaxis": {
         "anchor": "y",
         "domain": [
          0,
          1
         ],
         "title": {
          "text": "Kategori / Produk"
         }
        },
        "yaxis": {
         "anchor": "x",
         "domain": [
          0,
          1
         ],
         "title": {
          "text": "Total All 1"
         }
        }
       }
      }
     },
     "metadata": {},
     "output_type": "display_data"
    }
   ],
   "source": [
    "# --- Urutkan berdasarkan total_all1 ---\n",
    "combined_sorted = combined.sort_values(by=\"total_all1\", ascending=False)\n",
    "\n",
    "fig = px.bar(\n",
    "    combined_sorted,\n",
    "    x=combined_sorted.index,      # ganti ke 'nama_produk' jika ada kolom nama produk\n",
    "    y=\"total_all1\",\n",
    "    title=\"Total Gabungan Pendukung dan Review (total_all1) - Urut Tertinggi ke Terendah\",\n",
    "    text=\"total_all1\",\n",
    "    color=\"total_all1\",\n",
    "    color_continuous_scale=\"Blues\"\n",
    ")\n",
    "\n",
    "fig.update_layout(xaxis_title=\"Kategori / Produk\", yaxis_title=\"Total All 1\")\n",
    "fig.show()\n",
    "plt.show()\n"
   ]
  },
  {
   "cell_type": "markdown",
   "id": "46d9ae95",
   "metadata": {},
   "source": [
    "## NEGATIF REVIEW"
   ]
  },
  {
   "cell_type": "code",
   "execution_count": 68,
   "id": "dcea9eb3",
   "metadata": {},
   "outputs": [],
   "source": [
    "review_jelek = data[data['sentiment'] == \"negative\"][\"variant\"].value_counts().rename(\"review_total\")\n"
   ]
  },
  {
   "cell_type": "code",
   "execution_count": 69,
   "id": "f6c905c7",
   "metadata": {},
   "outputs": [],
   "source": [
    "data[\"pendukungjelek\"] = data[\"likes\"] + data[\"retweets\"]"
   ]
  },
  {
   "cell_type": "code",
   "execution_count": 70,
   "id": "aef7e30b",
   "metadata": {},
   "outputs": [],
   "source": [
    "pendukung_jelek= data[data[\"sentiment\"] == \"negative\"]"
   ]
  },
  {
   "cell_type": "code",
   "execution_count": 71,
   "id": "ea9c852d",
   "metadata": {},
   "outputs": [
    {
     "name": "stdout",
     "output_type": "stream",
     "text": [
      "                        likes  retweets  pendukungjelek\n",
      "variant                                                \n",
      "Sore                       57        18              75\n",
      "EOS                        47        13              60\n",
      "Philea                     34        11              45\n",
      "Alpha                      28         6              34\n",
      "Farhampton                 24         6              30\n",
      "Untitled Human             22         8              30\n",
      "Addict                     24         3              27\n",
      "Darker Shade of Orgasm     22         4              26\n",
      "Perfection                 22         4              26\n",
      "O                          22         2              24\n"
     ]
    }
   ],
   "source": [
    "minus_review = (\n",
    "    pendukung_jelek.groupby(\"variant\")[[\"likes\", \"retweets\", \"pendukungjelek\"]]\n",
    "    .sum()\n",
    "    .sort_values(by=\"pendukungjelek\", ascending=False)\n",
    ")\n",
    "print(minus_review)"
   ]
  },
  {
   "cell_type": "code",
   "execution_count": 72,
   "id": "f7c3f2f0",
   "metadata": {},
   "outputs": [],
   "source": [
    "combinedjelek= minus_review.join(review_jelek, how=\"left\")\n",
    "combinedjelek[\"total_all\"] = combinedjelek[\"pendukungjelek\"] + combinedjelek[\"review_total\"]"
   ]
  },
  {
   "cell_type": "code",
   "execution_count": 73,
   "id": "fe5b492c",
   "metadata": {},
   "outputs": [
    {
     "data": {
      "text/html": [
       "<div>\n",
       "<style scoped>\n",
       "    .dataframe tbody tr th:only-of-type {\n",
       "        vertical-align: middle;\n",
       "    }\n",
       "\n",
       "    .dataframe tbody tr th {\n",
       "        vertical-align: top;\n",
       "    }\n",
       "\n",
       "    .dataframe thead th {\n",
       "        text-align: right;\n",
       "    }\n",
       "</style>\n",
       "<table border=\"1\" class=\"dataframe\">\n",
       "  <thead>\n",
       "    <tr style=\"text-align: right;\">\n",
       "      <th></th>\n",
       "      <th>likes</th>\n",
       "      <th>retweets</th>\n",
       "      <th>pendukungjelek</th>\n",
       "      <th>review_total</th>\n",
       "      <th>total_all</th>\n",
       "    </tr>\n",
       "    <tr>\n",
       "      <th>variant</th>\n",
       "      <th></th>\n",
       "      <th></th>\n",
       "      <th></th>\n",
       "      <th></th>\n",
       "      <th></th>\n",
       "    </tr>\n",
       "  </thead>\n",
       "  <tbody>\n",
       "    <tr>\n",
       "      <th>Sore</th>\n",
       "      <td>57</td>\n",
       "      <td>18</td>\n",
       "      <td>75</td>\n",
       "      <td>14</td>\n",
       "      <td>89</td>\n",
       "    </tr>\n",
       "    <tr>\n",
       "      <th>EOS</th>\n",
       "      <td>47</td>\n",
       "      <td>13</td>\n",
       "      <td>60</td>\n",
       "      <td>12</td>\n",
       "      <td>72</td>\n",
       "    </tr>\n",
       "    <tr>\n",
       "      <th>Philea</th>\n",
       "      <td>34</td>\n",
       "      <td>11</td>\n",
       "      <td>45</td>\n",
       "      <td>9</td>\n",
       "      <td>54</td>\n",
       "    </tr>\n",
       "    <tr>\n",
       "      <th>Alpha</th>\n",
       "      <td>28</td>\n",
       "      <td>6</td>\n",
       "      <td>34</td>\n",
       "      <td>6</td>\n",
       "      <td>40</td>\n",
       "    </tr>\n",
       "    <tr>\n",
       "      <th>Farhampton</th>\n",
       "      <td>24</td>\n",
       "      <td>6</td>\n",
       "      <td>30</td>\n",
       "      <td>8</td>\n",
       "      <td>38</td>\n",
       "    </tr>\n",
       "    <tr>\n",
       "      <th>Untitled Human</th>\n",
       "      <td>22</td>\n",
       "      <td>8</td>\n",
       "      <td>30</td>\n",
       "      <td>7</td>\n",
       "      <td>37</td>\n",
       "    </tr>\n",
       "    <tr>\n",
       "      <th>Addict</th>\n",
       "      <td>24</td>\n",
       "      <td>3</td>\n",
       "      <td>27</td>\n",
       "      <td>6</td>\n",
       "      <td>33</td>\n",
       "    </tr>\n",
       "    <tr>\n",
       "      <th>Darker Shade of Orgasm</th>\n",
       "      <td>22</td>\n",
       "      <td>4</td>\n",
       "      <td>26</td>\n",
       "      <td>6</td>\n",
       "      <td>32</td>\n",
       "    </tr>\n",
       "    <tr>\n",
       "      <th>Perfection</th>\n",
       "      <td>22</td>\n",
       "      <td>4</td>\n",
       "      <td>26</td>\n",
       "      <td>7</td>\n",
       "      <td>33</td>\n",
       "    </tr>\n",
       "    <tr>\n",
       "      <th>O</th>\n",
       "      <td>22</td>\n",
       "      <td>2</td>\n",
       "      <td>24</td>\n",
       "      <td>5</td>\n",
       "      <td>29</td>\n",
       "    </tr>\n",
       "  </tbody>\n",
       "</table>\n",
       "</div>"
      ],
      "text/plain": [
       "                        likes  retweets  pendukungjelek  review_total  \\\n",
       "variant                                                                 \n",
       "Sore                       57        18              75            14   \n",
       "EOS                        47        13              60            12   \n",
       "Philea                     34        11              45             9   \n",
       "Alpha                      28         6              34             6   \n",
       "Farhampton                 24         6              30             8   \n",
       "Untitled Human             22         8              30             7   \n",
       "Addict                     24         3              27             6   \n",
       "Darker Shade of Orgasm     22         4              26             6   \n",
       "Perfection                 22         4              26             7   \n",
       "O                          22         2              24             5   \n",
       "\n",
       "                        total_all  \n",
       "variant                            \n",
       "Sore                           89  \n",
       "EOS                            72  \n",
       "Philea                         54  \n",
       "Alpha                          40  \n",
       "Farhampton                     38  \n",
       "Untitled Human                 37  \n",
       "Addict                         33  \n",
       "Darker Shade of Orgasm         32  \n",
       "Perfection                     33  \n",
       "O                              29  "
      ]
     },
     "execution_count": 73,
     "metadata": {},
     "output_type": "execute_result"
    }
   ],
   "source": [
    "combinedjelek"
   ]
  },
  {
   "cell_type": "code",
   "execution_count": 74,
   "id": "21259ff8",
   "metadata": {},
   "outputs": [
    {
     "data": {
      "application/vnd.plotly.v1+json": {
       "config": {
        "plotlyServerURL": "https://plot.ly"
       },
       "data": [
        {
         "hovertemplate": "variant=%{x}<br>total_all=%{marker.color}<extra></extra>",
         "legendgroup": "",
         "marker": {
          "color": {
           "bdata": "WUg2KCYlISEgHQ==",
           "dtype": "i1"
          },
          "coloraxis": "coloraxis",
          "pattern": {
           "shape": ""
          }
         },
         "name": "",
         "orientation": "v",
         "showlegend": false,
         "text": {
          "bdata": "AAAAAABAVkAAAAAAAABSQAAAAAAAAEtAAAAAAAAAREAAAAAAAABDQAAAAAAAgEJAAAAAAACAQEAAAAAAAIBAQAAAAAAAAEBAAAAAAAAAPUA=",
          "dtype": "f8"
         },
         "textposition": "auto",
         "type": "bar",
         "x": [
          "Sore",
          "EOS",
          "Philea",
          "Alpha",
          "Farhampton",
          "Untitled Human",
          "Addict",
          "Perfection",
          "Darker Shade of Orgasm",
          "O"
         ],
         "xaxis": "x",
         "y": {
          "bdata": "WUg2KCYlISEgHQ==",
          "dtype": "i1"
         },
         "yaxis": "y"
        }
       ],
       "layout": {
        "barmode": "relative",
        "coloraxis": {
         "colorbar": {
          "title": {
           "text": "total_all"
          }
         },
         "colorscale": [
          [
           0,
           "rgb(255,245,240)"
          ],
          [
           0.125,
           "rgb(254,224,210)"
          ],
          [
           0.25,
           "rgb(252,187,161)"
          ],
          [
           0.375,
           "rgb(252,146,114)"
          ],
          [
           0.5,
           "rgb(251,106,74)"
          ],
          [
           0.625,
           "rgb(239,59,44)"
          ],
          [
           0.75,
           "rgb(203,24,29)"
          ],
          [
           0.875,
           "rgb(165,15,21)"
          ],
          [
           1,
           "rgb(103,0,13)"
          ]
         ]
        },
        "legend": {
         "tracegroupgap": 0
        },
        "template": {
         "data": {
          "bar": [
           {
            "error_x": {
             "color": "#2a3f5f"
            },
            "error_y": {
             "color": "#2a3f5f"
            },
            "marker": {
             "line": {
              "color": "#E5ECF6",
              "width": 0.5
             },
             "pattern": {
              "fillmode": "overlay",
              "size": 10,
              "solidity": 0.2
             }
            },
            "type": "bar"
           }
          ],
          "barpolar": [
           {
            "marker": {
             "line": {
              "color": "#E5ECF6",
              "width": 0.5
             },
             "pattern": {
              "fillmode": "overlay",
              "size": 10,
              "solidity": 0.2
             }
            },
            "type": "barpolar"
           }
          ],
          "carpet": [
           {
            "aaxis": {
             "endlinecolor": "#2a3f5f",
             "gridcolor": "white",
             "linecolor": "white",
             "minorgridcolor": "white",
             "startlinecolor": "#2a3f5f"
            },
            "baxis": {
             "endlinecolor": "#2a3f5f",
             "gridcolor": "white",
             "linecolor": "white",
             "minorgridcolor": "white",
             "startlinecolor": "#2a3f5f"
            },
            "type": "carpet"
           }
          ],
          "choropleth": [
           {
            "colorbar": {
             "outlinewidth": 0,
             "ticks": ""
            },
            "type": "choropleth"
           }
          ],
          "contour": [
           {
            "colorbar": {
             "outlinewidth": 0,
             "ticks": ""
            },
            "colorscale": [
             [
              0,
              "#0d0887"
             ],
             [
              0.1111111111111111,
              "#46039f"
             ],
             [
              0.2222222222222222,
              "#7201a8"
             ],
             [
              0.3333333333333333,
              "#9c179e"
             ],
             [
              0.4444444444444444,
              "#bd3786"
             ],
             [
              0.5555555555555556,
              "#d8576b"
             ],
             [
              0.6666666666666666,
              "#ed7953"
             ],
             [
              0.7777777777777778,
              "#fb9f3a"
             ],
             [
              0.8888888888888888,
              "#fdca26"
             ],
             [
              1,
              "#f0f921"
             ]
            ],
            "type": "contour"
           }
          ],
          "contourcarpet": [
           {
            "colorbar": {
             "outlinewidth": 0,
             "ticks": ""
            },
            "type": "contourcarpet"
           }
          ],
          "heatmap": [
           {
            "colorbar": {
             "outlinewidth": 0,
             "ticks": ""
            },
            "colorscale": [
             [
              0,
              "#0d0887"
             ],
             [
              0.1111111111111111,
              "#46039f"
             ],
             [
              0.2222222222222222,
              "#7201a8"
             ],
             [
              0.3333333333333333,
              "#9c179e"
             ],
             [
              0.4444444444444444,
              "#bd3786"
             ],
             [
              0.5555555555555556,
              "#d8576b"
             ],
             [
              0.6666666666666666,
              "#ed7953"
             ],
             [
              0.7777777777777778,
              "#fb9f3a"
             ],
             [
              0.8888888888888888,
              "#fdca26"
             ],
             [
              1,
              "#f0f921"
             ]
            ],
            "type": "heatmap"
           }
          ],
          "histogram": [
           {
            "marker": {
             "pattern": {
              "fillmode": "overlay",
              "size": 10,
              "solidity": 0.2
             }
            },
            "type": "histogram"
           }
          ],
          "histogram2d": [
           {
            "colorbar": {
             "outlinewidth": 0,
             "ticks": ""
            },
            "colorscale": [
             [
              0,
              "#0d0887"
             ],
             [
              0.1111111111111111,
              "#46039f"
             ],
             [
              0.2222222222222222,
              "#7201a8"
             ],
             [
              0.3333333333333333,
              "#9c179e"
             ],
             [
              0.4444444444444444,
              "#bd3786"
             ],
             [
              0.5555555555555556,
              "#d8576b"
             ],
             [
              0.6666666666666666,
              "#ed7953"
             ],
             [
              0.7777777777777778,
              "#fb9f3a"
             ],
             [
              0.8888888888888888,
              "#fdca26"
             ],
             [
              1,
              "#f0f921"
             ]
            ],
            "type": "histogram2d"
           }
          ],
          "histogram2dcontour": [
           {
            "colorbar": {
             "outlinewidth": 0,
             "ticks": ""
            },
            "colorscale": [
             [
              0,
              "#0d0887"
             ],
             [
              0.1111111111111111,
              "#46039f"
             ],
             [
              0.2222222222222222,
              "#7201a8"
             ],
             [
              0.3333333333333333,
              "#9c179e"
             ],
             [
              0.4444444444444444,
              "#bd3786"
             ],
             [
              0.5555555555555556,
              "#d8576b"
             ],
             [
              0.6666666666666666,
              "#ed7953"
             ],
             [
              0.7777777777777778,
              "#fb9f3a"
             ],
             [
              0.8888888888888888,
              "#fdca26"
             ],
             [
              1,
              "#f0f921"
             ]
            ],
            "type": "histogram2dcontour"
           }
          ],
          "mesh3d": [
           {
            "colorbar": {
             "outlinewidth": 0,
             "ticks": ""
            },
            "type": "mesh3d"
           }
          ],
          "parcoords": [
           {
            "line": {
             "colorbar": {
              "outlinewidth": 0,
              "ticks": ""
             }
            },
            "type": "parcoords"
           }
          ],
          "pie": [
           {
            "automargin": true,
            "type": "pie"
           }
          ],
          "scatter": [
           {
            "fillpattern": {
             "fillmode": "overlay",
             "size": 10,
             "solidity": 0.2
            },
            "type": "scatter"
           }
          ],
          "scatter3d": [
           {
            "line": {
             "colorbar": {
              "outlinewidth": 0,
              "ticks": ""
             }
            },
            "marker": {
             "colorbar": {
              "outlinewidth": 0,
              "ticks": ""
             }
            },
            "type": "scatter3d"
           }
          ],
          "scattercarpet": [
           {
            "marker": {
             "colorbar": {
              "outlinewidth": 0,
              "ticks": ""
             }
            },
            "type": "scattercarpet"
           }
          ],
          "scattergeo": [
           {
            "marker": {
             "colorbar": {
              "outlinewidth": 0,
              "ticks": ""
             }
            },
            "type": "scattergeo"
           }
          ],
          "scattergl": [
           {
            "marker": {
             "colorbar": {
              "outlinewidth": 0,
              "ticks": ""
             }
            },
            "type": "scattergl"
           }
          ],
          "scattermap": [
           {
            "marker": {
             "colorbar": {
              "outlinewidth": 0,
              "ticks": ""
             }
            },
            "type": "scattermap"
           }
          ],
          "scattermapbox": [
           {
            "marker": {
             "colorbar": {
              "outlinewidth": 0,
              "ticks": ""
             }
            },
            "type": "scattermapbox"
           }
          ],
          "scatterpolar": [
           {
            "marker": {
             "colorbar": {
              "outlinewidth": 0,
              "ticks": ""
             }
            },
            "type": "scatterpolar"
           }
          ],
          "scatterpolargl": [
           {
            "marker": {
             "colorbar": {
              "outlinewidth": 0,
              "ticks": ""
             }
            },
            "type": "scatterpolargl"
           }
          ],
          "scatterternary": [
           {
            "marker": {
             "colorbar": {
              "outlinewidth": 0,
              "ticks": ""
             }
            },
            "type": "scatterternary"
           }
          ],
          "surface": [
           {
            "colorbar": {
             "outlinewidth": 0,
             "ticks": ""
            },
            "colorscale": [
             [
              0,
              "#0d0887"
             ],
             [
              0.1111111111111111,
              "#46039f"
             ],
             [
              0.2222222222222222,
              "#7201a8"
             ],
             [
              0.3333333333333333,
              "#9c179e"
             ],
             [
              0.4444444444444444,
              "#bd3786"
             ],
             [
              0.5555555555555556,
              "#d8576b"
             ],
             [
              0.6666666666666666,
              "#ed7953"
             ],
             [
              0.7777777777777778,
              "#fb9f3a"
             ],
             [
              0.8888888888888888,
              "#fdca26"
             ],
             [
              1,
              "#f0f921"
             ]
            ],
            "type": "surface"
           }
          ],
          "table": [
           {
            "cells": {
             "fill": {
              "color": "#EBF0F8"
             },
             "line": {
              "color": "white"
             }
            },
            "header": {
             "fill": {
              "color": "#C8D4E3"
             },
             "line": {
              "color": "white"
             }
            },
            "type": "table"
           }
          ]
         },
         "layout": {
          "annotationdefaults": {
           "arrowcolor": "#2a3f5f",
           "arrowhead": 0,
           "arrowwidth": 1
          },
          "autotypenumbers": "strict",
          "coloraxis": {
           "colorbar": {
            "outlinewidth": 0,
            "ticks": ""
           }
          },
          "colorscale": {
           "diverging": [
            [
             0,
             "#8e0152"
            ],
            [
             0.1,
             "#c51b7d"
            ],
            [
             0.2,
             "#de77ae"
            ],
            [
             0.3,
             "#f1b6da"
            ],
            [
             0.4,
             "#fde0ef"
            ],
            [
             0.5,
             "#f7f7f7"
            ],
            [
             0.6,
             "#e6f5d0"
            ],
            [
             0.7,
             "#b8e186"
            ],
            [
             0.8,
             "#7fbc41"
            ],
            [
             0.9,
             "#4d9221"
            ],
            [
             1,
             "#276419"
            ]
           ],
           "sequential": [
            [
             0,
             "#0d0887"
            ],
            [
             0.1111111111111111,
             "#46039f"
            ],
            [
             0.2222222222222222,
             "#7201a8"
            ],
            [
             0.3333333333333333,
             "#9c179e"
            ],
            [
             0.4444444444444444,
             "#bd3786"
            ],
            [
             0.5555555555555556,
             "#d8576b"
            ],
            [
             0.6666666666666666,
             "#ed7953"
            ],
            [
             0.7777777777777778,
             "#fb9f3a"
            ],
            [
             0.8888888888888888,
             "#fdca26"
            ],
            [
             1,
             "#f0f921"
            ]
           ],
           "sequentialminus": [
            [
             0,
             "#0d0887"
            ],
            [
             0.1111111111111111,
             "#46039f"
            ],
            [
             0.2222222222222222,
             "#7201a8"
            ],
            [
             0.3333333333333333,
             "#9c179e"
            ],
            [
             0.4444444444444444,
             "#bd3786"
            ],
            [
             0.5555555555555556,
             "#d8576b"
            ],
            [
             0.6666666666666666,
             "#ed7953"
            ],
            [
             0.7777777777777778,
             "#fb9f3a"
            ],
            [
             0.8888888888888888,
             "#fdca26"
            ],
            [
             1,
             "#f0f921"
            ]
           ]
          },
          "colorway": [
           "#636efa",
           "#EF553B",
           "#00cc96",
           "#ab63fa",
           "#FFA15A",
           "#19d3f3",
           "#FF6692",
           "#B6E880",
           "#FF97FF",
           "#FECB52"
          ],
          "font": {
           "color": "#2a3f5f"
          },
          "geo": {
           "bgcolor": "white",
           "lakecolor": "white",
           "landcolor": "#E5ECF6",
           "showlakes": true,
           "showland": true,
           "subunitcolor": "white"
          },
          "hoverlabel": {
           "align": "left"
          },
          "hovermode": "closest",
          "mapbox": {
           "style": "light"
          },
          "paper_bgcolor": "white",
          "plot_bgcolor": "#E5ECF6",
          "polar": {
           "angularaxis": {
            "gridcolor": "white",
            "linecolor": "white",
            "ticks": ""
           },
           "bgcolor": "#E5ECF6",
           "radialaxis": {
            "gridcolor": "white",
            "linecolor": "white",
            "ticks": ""
           }
          },
          "scene": {
           "xaxis": {
            "backgroundcolor": "#E5ECF6",
            "gridcolor": "white",
            "gridwidth": 2,
            "linecolor": "white",
            "showbackground": true,
            "ticks": "",
            "zerolinecolor": "white"
           },
           "yaxis": {
            "backgroundcolor": "#E5ECF6",
            "gridcolor": "white",
            "gridwidth": 2,
            "linecolor": "white",
            "showbackground": true,
            "ticks": "",
            "zerolinecolor": "white"
           },
           "zaxis": {
            "backgroundcolor": "#E5ECF6",
            "gridcolor": "white",
            "gridwidth": 2,
            "linecolor": "white",
            "showbackground": true,
            "ticks": "",
            "zerolinecolor": "white"
           }
          },
          "shapedefaults": {
           "line": {
            "color": "#2a3f5f"
           }
          },
          "ternary": {
           "aaxis": {
            "gridcolor": "white",
            "linecolor": "white",
            "ticks": ""
           },
           "baxis": {
            "gridcolor": "white",
            "linecolor": "white",
            "ticks": ""
           },
           "bgcolor": "#E5ECF6",
           "caxis": {
            "gridcolor": "white",
            "linecolor": "white",
            "ticks": ""
           }
          },
          "title": {
           "x": 0.05
          },
          "xaxis": {
           "automargin": true,
           "gridcolor": "white",
           "linecolor": "white",
           "ticks": "",
           "title": {
            "standoff": 15
           },
           "zerolinecolor": "white",
           "zerolinewidth": 2
          },
          "yaxis": {
           "automargin": true,
           "gridcolor": "white",
           "linecolor": "white",
           "ticks": "",
           "title": {
            "standoff": 15
           },
           "zerolinecolor": "white",
           "zerolinewidth": 2
          }
         }
        },
        "title": {
         "text": "Total Gabungan Pendukung Negatif dan Review (total_all)"
        },
        "xaxis": {
         "anchor": "y",
         "domain": [
          0,
          1
         ],
         "title": {
          "text": "Kategori / Produk"
         }
        },
        "yaxis": {
         "anchor": "x",
         "domain": [
          0,
          1
         ],
         "title": {
          "text": "Total All"
         }
        }
       }
      }
     },
     "metadata": {},
     "output_type": "display_data"
    }
   ],
   "source": [
    "# --- Urutkan data ---\n",
    "combinedjelek_sorted = combinedjelek.sort_values(by=\"total_all\", ascending=False)\n",
    "\n",
    "# --- Buat Bar Chart ---\n",
    "fig = px.bar(\n",
    "    combinedjelek_sorted,\n",
    "    x=combinedjelek_sorted.index,      # atau gunakan kolom nama produk, misal combinedjelek[\"produk\"]\n",
    "    y=\"total_all\",\n",
    "    title=\"Total Gabungan Pendukung Negatif dan Review (total_all)\",\n",
    "    text=\"total_all\",\n",
    "    color=\"total_all\",\n",
    "    color_continuous_scale=\"Reds\"\n",
    ")\n",
    "\n",
    "fig.update_layout(xaxis_title=\"Kategori / Produk\", yaxis_title=\"Total All\")\n",
    "fig.show()"
   ]
  },
  {
   "cell_type": "code",
   "execution_count": 75,
   "id": "48275e52",
   "metadata": {},
   "outputs": [],
   "source": [
    "# --- Hitung total setuju (positif) dan tidak setuju (negatif) ---\n",
    "combined[\"total_setuju\"] = combined[\"total_all1\"]\n",
    "combined[\"total_tidak_setuju\"] = combinedjelek[\"total_all\"]\n"
   ]
  },
  {
   "cell_type": "code",
   "execution_count": 76,
   "id": "8c8cc086",
   "metadata": {},
   "outputs": [
    {
     "name": "stdout",
     "output_type": "stream",
     "text": [
      "📊 Hasil Perbandingan Dukungan Positif vs Negatif (Net Agreement %):\n"
     ]
    },
    {
     "data": {
      "text/html": [
       "<div>\n",
       "<style scoped>\n",
       "    .dataframe tbody tr th:only-of-type {\n",
       "        vertical-align: middle;\n",
       "    }\n",
       "\n",
       "    .dataframe tbody tr th {\n",
       "        vertical-align: top;\n",
       "    }\n",
       "\n",
       "    .dataframe thead th {\n",
       "        text-align: right;\n",
       "    }\n",
       "</style>\n",
       "<table border=\"1\" class=\"dataframe\">\n",
       "  <thead>\n",
       "    <tr style=\"text-align: right;\">\n",
       "      <th></th>\n",
       "      <th>total_setuju</th>\n",
       "      <th>total_tidak_setuju</th>\n",
       "      <th>persentase_suka</th>\n",
       "    </tr>\n",
       "    <tr>\n",
       "      <th>variant</th>\n",
       "      <th></th>\n",
       "      <th></th>\n",
       "      <th></th>\n",
       "    </tr>\n",
       "  </thead>\n",
       "  <tbody>\n",
       "    <tr>\n",
       "      <th>Perfection</th>\n",
       "      <td>463</td>\n",
       "      <td>33</td>\n",
       "      <td>86.69</td>\n",
       "    </tr>\n",
       "    <tr>\n",
       "      <th>Darker Shade of Orgasm</th>\n",
       "      <td>406</td>\n",
       "      <td>32</td>\n",
       "      <td>85.39</td>\n",
       "    </tr>\n",
       "    <tr>\n",
       "      <th>O</th>\n",
       "      <td>365</td>\n",
       "      <td>29</td>\n",
       "      <td>85.28</td>\n",
       "    </tr>\n",
       "    <tr>\n",
       "      <th>Untitled Human</th>\n",
       "      <td>380</td>\n",
       "      <td>37</td>\n",
       "      <td>82.25</td>\n",
       "    </tr>\n",
       "    <tr>\n",
       "      <th>Farhampton</th>\n",
       "      <td>342</td>\n",
       "      <td>38</td>\n",
       "      <td>80.00</td>\n",
       "    </tr>\n",
       "    <tr>\n",
       "      <th>Alpha</th>\n",
       "      <td>349</td>\n",
       "      <td>40</td>\n",
       "      <td>79.43</td>\n",
       "    </tr>\n",
       "    <tr>\n",
       "      <th>Addict</th>\n",
       "      <td>281</td>\n",
       "      <td>33</td>\n",
       "      <td>78.98</td>\n",
       "    </tr>\n",
       "    <tr>\n",
       "      <th>EOS</th>\n",
       "      <td>454</td>\n",
       "      <td>72</td>\n",
       "      <td>72.62</td>\n",
       "    </tr>\n",
       "    <tr>\n",
       "      <th>Sore</th>\n",
       "      <td>477</td>\n",
       "      <td>89</td>\n",
       "      <td>68.55</td>\n",
       "    </tr>\n",
       "    <tr>\n",
       "      <th>Philea</th>\n",
       "      <td>239</td>\n",
       "      <td>54</td>\n",
       "      <td>63.14</td>\n",
       "    </tr>\n",
       "  </tbody>\n",
       "</table>\n",
       "</div>"
      ],
      "text/plain": [
       "                        total_setuju  total_tidak_setuju  persentase_suka\n",
       "variant                                                                  \n",
       "Perfection                       463                  33            86.69\n",
       "Darker Shade of Orgasm           406                  32            85.39\n",
       "O                                365                  29            85.28\n",
       "Untitled Human                   380                  37            82.25\n",
       "Farhampton                       342                  38            80.00\n",
       "Alpha                            349                  40            79.43\n",
       "Addict                           281                  33            78.98\n",
       "EOS                              454                  72            72.62\n",
       "Sore                             477                  89            68.55\n",
       "Philea                           239                  54            63.14"
      ]
     },
     "execution_count": 76,
     "metadata": {},
     "output_type": "execute_result"
    }
   ],
   "source": [
    "# --- Hitung persentase dukungan bersih ---\n",
    "combined[\"persentase_suka\"] = (\n",
    "    (combined[\"total_setuju\"] - combined[\"total_tidak_setuju\"]) /\n",
    "    (combined[\"total_setuju\"] + combined[\"total_tidak_setuju\"]) * 100\n",
    ").round(2)\n",
    "\n",
    "# --- Urutkan dari dukungan tertinggi ---\n",
    "combined = combined.sort_values(by=\"persentase_suka\", ascending=False)\n",
    "\n",
    "print(\"📊 Hasil Perbandingan Dukungan Positif vs Negatif (Net Agreement %):\")\n",
    "combined[[\"total_setuju\",\"total_tidak_setuju\",\"persentase_suka\"]]"
   ]
  },
  {
   "cell_type": "markdown",
   "id": "638bced4",
   "metadata": {},
   "source": [
    "## ANALISIS LEBIH LANJUT"
   ]
  },
  {
   "cell_type": "code",
   "execution_count": 77,
   "id": "ef2eda88",
   "metadata": {},
   "outputs": [
    {
     "data": {
      "text/html": [
       "<div>\n",
       "<style scoped>\n",
       "    .dataframe tbody tr th:only-of-type {\n",
       "        vertical-align: middle;\n",
       "    }\n",
       "\n",
       "    .dataframe tbody tr th {\n",
       "        vertical-align: top;\n",
       "    }\n",
       "\n",
       "    .dataframe thead th {\n",
       "        text-align: right;\n",
       "    }\n",
       "</style>\n",
       "<table border=\"1\" class=\"dataframe\">\n",
       "  <thead>\n",
       "    <tr style=\"text-align: right;\">\n",
       "      <th></th>\n",
       "      <th>likes</th>\n",
       "      <th>retweets</th>\n",
       "      <th>pendukung</th>\n",
       "      <th>review_count</th>\n",
       "      <th>total_all1</th>\n",
       "      <th>total_setuju</th>\n",
       "      <th>total_tidak_setuju</th>\n",
       "      <th>persentase_suka</th>\n",
       "    </tr>\n",
       "    <tr>\n",
       "      <th>variant</th>\n",
       "      <th></th>\n",
       "      <th></th>\n",
       "      <th></th>\n",
       "      <th></th>\n",
       "      <th></th>\n",
       "      <th></th>\n",
       "      <th></th>\n",
       "      <th></th>\n",
       "    </tr>\n",
       "  </thead>\n",
       "  <tbody>\n",
       "    <tr>\n",
       "      <th>Perfection</th>\n",
       "      <td>317</td>\n",
       "      <td>119</td>\n",
       "      <td>436</td>\n",
       "      <td>27</td>\n",
       "      <td>463</td>\n",
       "      <td>463</td>\n",
       "      <td>33</td>\n",
       "      <td>86.69</td>\n",
       "    </tr>\n",
       "    <tr>\n",
       "      <th>Darker Shade of Orgasm</th>\n",
       "      <td>297</td>\n",
       "      <td>85</td>\n",
       "      <td>382</td>\n",
       "      <td>24</td>\n",
       "      <td>406</td>\n",
       "      <td>406</td>\n",
       "      <td>32</td>\n",
       "      <td>85.39</td>\n",
       "    </tr>\n",
       "    <tr>\n",
       "      <th>O</th>\n",
       "      <td>240</td>\n",
       "      <td>103</td>\n",
       "      <td>343</td>\n",
       "      <td>22</td>\n",
       "      <td>365</td>\n",
       "      <td>365</td>\n",
       "      <td>29</td>\n",
       "      <td>85.28</td>\n",
       "    </tr>\n",
       "    <tr>\n",
       "      <th>Untitled Human</th>\n",
       "      <td>269</td>\n",
       "      <td>89</td>\n",
       "      <td>358</td>\n",
       "      <td>22</td>\n",
       "      <td>380</td>\n",
       "      <td>380</td>\n",
       "      <td>37</td>\n",
       "      <td>82.25</td>\n",
       "    </tr>\n",
       "    <tr>\n",
       "      <th>Farhampton</th>\n",
       "      <td>236</td>\n",
       "      <td>85</td>\n",
       "      <td>321</td>\n",
       "      <td>21</td>\n",
       "      <td>342</td>\n",
       "      <td>342</td>\n",
       "      <td>38</td>\n",
       "      <td>80.00</td>\n",
       "    </tr>\n",
       "    <tr>\n",
       "      <th>Alpha</th>\n",
       "      <td>253</td>\n",
       "      <td>77</td>\n",
       "      <td>330</td>\n",
       "      <td>19</td>\n",
       "      <td>349</td>\n",
       "      <td>349</td>\n",
       "      <td>40</td>\n",
       "      <td>79.43</td>\n",
       "    </tr>\n",
       "    <tr>\n",
       "      <th>Addict</th>\n",
       "      <td>195</td>\n",
       "      <td>70</td>\n",
       "      <td>265</td>\n",
       "      <td>16</td>\n",
       "      <td>281</td>\n",
       "      <td>281</td>\n",
       "      <td>33</td>\n",
       "      <td>78.98</td>\n",
       "    </tr>\n",
       "    <tr>\n",
       "      <th>EOS</th>\n",
       "      <td>325</td>\n",
       "      <td>103</td>\n",
       "      <td>428</td>\n",
       "      <td>26</td>\n",
       "      <td>454</td>\n",
       "      <td>454</td>\n",
       "      <td>72</td>\n",
       "      <td>72.62</td>\n",
       "    </tr>\n",
       "    <tr>\n",
       "      <th>Sore</th>\n",
       "      <td>345</td>\n",
       "      <td>103</td>\n",
       "      <td>448</td>\n",
       "      <td>29</td>\n",
       "      <td>477</td>\n",
       "      <td>477</td>\n",
       "      <td>89</td>\n",
       "      <td>68.55</td>\n",
       "    </tr>\n",
       "    <tr>\n",
       "      <th>Philea</th>\n",
       "      <td>163</td>\n",
       "      <td>62</td>\n",
       "      <td>225</td>\n",
       "      <td>14</td>\n",
       "      <td>239</td>\n",
       "      <td>239</td>\n",
       "      <td>54</td>\n",
       "      <td>63.14</td>\n",
       "    </tr>\n",
       "  </tbody>\n",
       "</table>\n",
       "</div>"
      ],
      "text/plain": [
       "                        likes  retweets  pendukung  review_count  total_all1  \\\n",
       "variant                                                                        \n",
       "Perfection                317       119        436            27         463   \n",
       "Darker Shade of Orgasm    297        85        382            24         406   \n",
       "O                         240       103        343            22         365   \n",
       "Untitled Human            269        89        358            22         380   \n",
       "Farhampton                236        85        321            21         342   \n",
       "Alpha                     253        77        330            19         349   \n",
       "Addict                    195        70        265            16         281   \n",
       "EOS                       325       103        428            26         454   \n",
       "Sore                      345       103        448            29         477   \n",
       "Philea                    163        62        225            14         239   \n",
       "\n",
       "                        total_setuju  total_tidak_setuju  persentase_suka  \n",
       "variant                                                                    \n",
       "Perfection                       463                  33            86.69  \n",
       "Darker Shade of Orgasm           406                  32            85.39  \n",
       "O                                365                  29            85.28  \n",
       "Untitled Human                   380                  37            82.25  \n",
       "Farhampton                       342                  38            80.00  \n",
       "Alpha                            349                  40            79.43  \n",
       "Addict                           281                  33            78.98  \n",
       "EOS                              454                  72            72.62  \n",
       "Sore                             477                  89            68.55  \n",
       "Philea                           239                  54            63.14  "
      ]
     },
     "execution_count": 77,
     "metadata": {},
     "output_type": "execute_result"
    }
   ],
   "source": [
    "combined"
   ]
  },
  {
   "cell_type": "code",
   "execution_count": 78,
   "id": "bf92649e",
   "metadata": {},
   "outputs": [],
   "source": [
    "combined.reset_index(inplace=True)"
   ]
  },
  {
   "cell_type": "code",
   "execution_count": 79,
   "id": "dc317613",
   "metadata": {},
   "outputs": [
    {
     "data": {
      "text/html": [
       "<div>\n",
       "<style scoped>\n",
       "    .dataframe tbody tr th:only-of-type {\n",
       "        vertical-align: middle;\n",
       "    }\n",
       "\n",
       "    .dataframe tbody tr th {\n",
       "        vertical-align: top;\n",
       "    }\n",
       "\n",
       "    .dataframe thead th {\n",
       "        text-align: right;\n",
       "    }\n",
       "</style>\n",
       "<table border=\"1\" class=\"dataframe\">\n",
       "  <thead>\n",
       "    <tr style=\"text-align: right;\">\n",
       "      <th></th>\n",
       "      <th>variant</th>\n",
       "      <th>likes</th>\n",
       "      <th>retweets</th>\n",
       "      <th>pendukung</th>\n",
       "      <th>review_count</th>\n",
       "      <th>total_all1</th>\n",
       "      <th>total_setuju</th>\n",
       "      <th>total_tidak_setuju</th>\n",
       "      <th>persentase_suka</th>\n",
       "    </tr>\n",
       "  </thead>\n",
       "  <tbody>\n",
       "    <tr>\n",
       "      <th>0</th>\n",
       "      <td>Perfection</td>\n",
       "      <td>317</td>\n",
       "      <td>119</td>\n",
       "      <td>436</td>\n",
       "      <td>27</td>\n",
       "      <td>463</td>\n",
       "      <td>463</td>\n",
       "      <td>33</td>\n",
       "      <td>86.69</td>\n",
       "    </tr>\n",
       "    <tr>\n",
       "      <th>1</th>\n",
       "      <td>Darker Shade of Orgasm</td>\n",
       "      <td>297</td>\n",
       "      <td>85</td>\n",
       "      <td>382</td>\n",
       "      <td>24</td>\n",
       "      <td>406</td>\n",
       "      <td>406</td>\n",
       "      <td>32</td>\n",
       "      <td>85.39</td>\n",
       "    </tr>\n",
       "    <tr>\n",
       "      <th>2</th>\n",
       "      <td>O</td>\n",
       "      <td>240</td>\n",
       "      <td>103</td>\n",
       "      <td>343</td>\n",
       "      <td>22</td>\n",
       "      <td>365</td>\n",
       "      <td>365</td>\n",
       "      <td>29</td>\n",
       "      <td>85.28</td>\n",
       "    </tr>\n",
       "    <tr>\n",
       "      <th>3</th>\n",
       "      <td>Untitled Human</td>\n",
       "      <td>269</td>\n",
       "      <td>89</td>\n",
       "      <td>358</td>\n",
       "      <td>22</td>\n",
       "      <td>380</td>\n",
       "      <td>380</td>\n",
       "      <td>37</td>\n",
       "      <td>82.25</td>\n",
       "    </tr>\n",
       "    <tr>\n",
       "      <th>4</th>\n",
       "      <td>Farhampton</td>\n",
       "      <td>236</td>\n",
       "      <td>85</td>\n",
       "      <td>321</td>\n",
       "      <td>21</td>\n",
       "      <td>342</td>\n",
       "      <td>342</td>\n",
       "      <td>38</td>\n",
       "      <td>80.00</td>\n",
       "    </tr>\n",
       "    <tr>\n",
       "      <th>5</th>\n",
       "      <td>Alpha</td>\n",
       "      <td>253</td>\n",
       "      <td>77</td>\n",
       "      <td>330</td>\n",
       "      <td>19</td>\n",
       "      <td>349</td>\n",
       "      <td>349</td>\n",
       "      <td>40</td>\n",
       "      <td>79.43</td>\n",
       "    </tr>\n",
       "    <tr>\n",
       "      <th>6</th>\n",
       "      <td>Addict</td>\n",
       "      <td>195</td>\n",
       "      <td>70</td>\n",
       "      <td>265</td>\n",
       "      <td>16</td>\n",
       "      <td>281</td>\n",
       "      <td>281</td>\n",
       "      <td>33</td>\n",
       "      <td>78.98</td>\n",
       "    </tr>\n",
       "    <tr>\n",
       "      <th>7</th>\n",
       "      <td>EOS</td>\n",
       "      <td>325</td>\n",
       "      <td>103</td>\n",
       "      <td>428</td>\n",
       "      <td>26</td>\n",
       "      <td>454</td>\n",
       "      <td>454</td>\n",
       "      <td>72</td>\n",
       "      <td>72.62</td>\n",
       "    </tr>\n",
       "    <tr>\n",
       "      <th>8</th>\n",
       "      <td>Sore</td>\n",
       "      <td>345</td>\n",
       "      <td>103</td>\n",
       "      <td>448</td>\n",
       "      <td>29</td>\n",
       "      <td>477</td>\n",
       "      <td>477</td>\n",
       "      <td>89</td>\n",
       "      <td>68.55</td>\n",
       "    </tr>\n",
       "    <tr>\n",
       "      <th>9</th>\n",
       "      <td>Philea</td>\n",
       "      <td>163</td>\n",
       "      <td>62</td>\n",
       "      <td>225</td>\n",
       "      <td>14</td>\n",
       "      <td>239</td>\n",
       "      <td>239</td>\n",
       "      <td>54</td>\n",
       "      <td>63.14</td>\n",
       "    </tr>\n",
       "  </tbody>\n",
       "</table>\n",
       "</div>"
      ],
      "text/plain": [
       "                  variant  likes  retweets  pendukung  review_count  \\\n",
       "0              Perfection    317       119        436            27   \n",
       "1  Darker Shade of Orgasm    297        85        382            24   \n",
       "2                       O    240       103        343            22   \n",
       "3          Untitled Human    269        89        358            22   \n",
       "4              Farhampton    236        85        321            21   \n",
       "5                   Alpha    253        77        330            19   \n",
       "6                  Addict    195        70        265            16   \n",
       "7                     EOS    325       103        428            26   \n",
       "8                    Sore    345       103        448            29   \n",
       "9                  Philea    163        62        225            14   \n",
       "\n",
       "   total_all1  total_setuju  total_tidak_setuju  persentase_suka  \n",
       "0         463           463                  33            86.69  \n",
       "1         406           406                  32            85.39  \n",
       "2         365           365                  29            85.28  \n",
       "3         380           380                  37            82.25  \n",
       "4         342           342                  38            80.00  \n",
       "5         349           349                  40            79.43  \n",
       "6         281           281                  33            78.98  \n",
       "7         454           454                  72            72.62  \n",
       "8         477           477                  89            68.55  \n",
       "9         239           239                  54            63.14  "
      ]
     },
     "execution_count": 79,
     "metadata": {},
     "output_type": "execute_result"
    }
   ],
   "source": [
    "combined"
   ]
  },
  {
   "cell_type": "code",
   "execution_count": 80,
   "id": "93a81a41",
   "metadata": {},
   "outputs": [
    {
     "data": {
      "text/html": [
       "<div>\n",
       "<style scoped>\n",
       "    .dataframe tbody tr th:only-of-type {\n",
       "        vertical-align: middle;\n",
       "    }\n",
       "\n",
       "    .dataframe tbody tr th {\n",
       "        vertical-align: top;\n",
       "    }\n",
       "\n",
       "    .dataframe thead th {\n",
       "        text-align: right;\n",
       "    }\n",
       "</style>\n",
       "<table border=\"1\" class=\"dataframe\">\n",
       "  <thead>\n",
       "    <tr style=\"text-align: right;\">\n",
       "      <th></th>\n",
       "      <th>variant</th>\n",
       "      <th>total_penjualan_rill</th>\n",
       "      <th>stok_disarankan_perbulan</th>\n",
       "      <th>stok_disarankan_tahunan</th>\n",
       "    </tr>\n",
       "  </thead>\n",
       "  <tbody>\n",
       "    <tr>\n",
       "      <th>0</th>\n",
       "      <td>Perfection</td>\n",
       "      <td>908</td>\n",
       "      <td>1090</td>\n",
       "      <td>13080</td>\n",
       "    </tr>\n",
       "    <tr>\n",
       "      <th>1</th>\n",
       "      <td>Darker Shade of Orgasm</td>\n",
       "      <td>885</td>\n",
       "      <td>1062</td>\n",
       "      <td>12744</td>\n",
       "    </tr>\n",
       "    <tr>\n",
       "      <th>2</th>\n",
       "      <td>O</td>\n",
       "      <td>1000</td>\n",
       "      <td>1200</td>\n",
       "      <td>14400</td>\n",
       "    </tr>\n",
       "    <tr>\n",
       "      <th>3</th>\n",
       "      <td>Untitled Human</td>\n",
       "      <td>544</td>\n",
       "      <td>653</td>\n",
       "      <td>7836</td>\n",
       "    </tr>\n",
       "    <tr>\n",
       "      <th>4</th>\n",
       "      <td>Farhampton</td>\n",
       "      <td>1000</td>\n",
       "      <td>1200</td>\n",
       "      <td>14400</td>\n",
       "    </tr>\n",
       "    <tr>\n",
       "      <th>5</th>\n",
       "      <td>Alpha</td>\n",
       "      <td>1000</td>\n",
       "      <td>1200</td>\n",
       "      <td>14400</td>\n",
       "    </tr>\n",
       "    <tr>\n",
       "      <th>6</th>\n",
       "      <td>Addict</td>\n",
       "      <td>402</td>\n",
       "      <td>482</td>\n",
       "      <td>5784</td>\n",
       "    </tr>\n",
       "    <tr>\n",
       "      <th>7</th>\n",
       "      <td>EOS</td>\n",
       "      <td>581</td>\n",
       "      <td>697</td>\n",
       "      <td>8364</td>\n",
       "    </tr>\n",
       "    <tr>\n",
       "      <th>8</th>\n",
       "      <td>Sore</td>\n",
       "      <td>1000</td>\n",
       "      <td>1200</td>\n",
       "      <td>14400</td>\n",
       "    </tr>\n",
       "    <tr>\n",
       "      <th>9</th>\n",
       "      <td>Philea</td>\n",
       "      <td>1000</td>\n",
       "      <td>1200</td>\n",
       "      <td>14400</td>\n",
       "    </tr>\n",
       "  </tbody>\n",
       "</table>\n",
       "</div>"
      ],
      "text/plain": [
       "                  variant  total_penjualan_rill  stok_disarankan_perbulan  \\\n",
       "0              Perfection                   908                      1090   \n",
       "1  Darker Shade of Orgasm                   885                      1062   \n",
       "2                       O                  1000                      1200   \n",
       "3          Untitled Human                   544                       653   \n",
       "4              Farhampton                  1000                      1200   \n",
       "5                   Alpha                  1000                      1200   \n",
       "6                  Addict                   402                       482   \n",
       "7                     EOS                   581                       697   \n",
       "8                    Sore                  1000                      1200   \n",
       "9                  Philea                  1000                      1200   \n",
       "\n",
       "   stok_disarankan_tahunan  \n",
       "0                    13080  \n",
       "1                    12744  \n",
       "2                    14400  \n",
       "3                     7836  \n",
       "4                    14400  \n",
       "5                    14400  \n",
       "6                     5784  \n",
       "7                     8364  \n",
       "8                    14400  \n",
       "9                    14400  "
      ]
     },
     "execution_count": 80,
     "metadata": {},
     "output_type": "execute_result"
    }
   ],
   "source": [
    "\n",
    "combined = pd.DataFrame({\n",
    "    \"variant\": [\n",
    "        \"Perfection\",\"Darker Shade of Orgasm\",\"O\",\"Untitled Human\",\n",
    "        \"Farhampton\",\"Alpha\",\"Addict\",\"EOS\",\"Sore\",\"Philea\"\n",
    "    ],\n",
    "    \"persentase_suka\": [86.69,85.39,85.28,82.25,80.00,79.43,78.98,72.62,68.55,63.10],\n",
    "    \"total_penjualan_rill\": [908,885,1000,544,1000,1000,402,581,1000,1000]  # per bulan\n",
    "})\n",
    "\n",
    "# Faktor cadangan stok (20%)\n",
    "cadangan = 1.2  \n",
    "\n",
    "# Hitung stok disarankan per bulan (20% lebih banyak dari penjualan aktual)\n",
    "combined[\"stok_disarankan_perbulan\"] = (combined[\"total_penjualan_rill\"] * cadangan).round(0).astype(int)\n",
    "\n",
    "# Hitung stok disarankan tahunan\n",
    "combined[\"stok_disarankan_tahunan\"] = combined[\"stok_disarankan_perbulan\"] * 12\n",
    "\n",
    "combined[[\"variant\",\"total_penjualan_rill\",\"stok_disarankan_perbulan\",\"stok_disarankan_tahunan\"]]"
   ]
  }
 ],
 "metadata": {
  "kernelspec": {
   "display_name": "Python 3",
   "language": "python",
   "name": "python3"
  },
  "language_info": {
   "codemirror_mode": {
    "name": "ipython",
    "version": 3
   },
   "file_extension": ".py",
   "mimetype": "text/x-python",
   "name": "python",
   "nbconvert_exporter": "python",
   "pygments_lexer": "ipython3",
   "version": "3.14.0"
  }
 },
 "nbformat": 4,
 "nbformat_minor": 5
}
